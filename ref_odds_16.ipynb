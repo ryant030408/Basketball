{
 "cells": [
  {
   "cell_type": "code",
   "execution_count": 1,
   "metadata": {
    "collapsed": true
   },
   "outputs": [],
   "source": [
    "%matplotlib inline\n",
    "\n",
    "import matplotlib\n",
    "import numpy as np\n",
    "import matplotlib.pyplot as plt\n",
    "import pandas as pd\n"
   ]
  },
  {
   "cell_type": "code",
   "execution_count": 2,
   "metadata": {},
   "outputs": [],
   "source": [
    "odds = pd.read_pickle('odds/odds_for_16')"
   ]
  },
  {
   "cell_type": "code",
   "execution_count": 3,
   "metadata": {},
   "outputs": [
    {
     "name": "stdout",
     "output_type": "stream",
     "text": [
      "   Date  Rot VH        Team  1st  2nd  3rd  4th  Final   Open Close    ML  \\\n0  1025  501  V     NewYork   18   27   19   24     88  205.5   206   355   \n1  1025  502  H   Cleveland   28   20   34   35    117    9.5     9  -450   \n2  1025  503  V        Utah   26   20   37   21    104    194   192   195   \n3  1025  504  H    Portland   26   28   23   36    113      6   5.5  -235   \n4  1025  505  V  SanAntonio   31   33   33   32    129  210.5   212   325   \n\n      2H  GAME_ID  \n0  103.5        1  \n1      5        1  \n2   99.5        2  \n3     pk        2  \n4    110        3  \n"
     ]
    }
   ],
   "source": [
    "print(odds.head())"
   ]
  },
  {
   "cell_type": "code",
   "execution_count": 4,
   "metadata": {},
   "outputs": [
    {
     "name": "stdout",
     "output_type": "stream",
     "text": [
      "       OFFICIAL_ID FIRST_NAME LAST_NAME JERSEY_NUM  GAME_ID  REF_NUM\nINDEX                                                               \n1             1363     Bennie     Adams       47          1      0.0\n2             1662       Bill   Kennedy       55          1      1.0\n3           202026       Karl      Lane       77          1      2.0\n4             1147       Mike  Callahan       24          2      0.0\n5             2529       Tony     Brown       6           2      1.0\n"
     ]
    }
   ],
   "source": [
    "refs = pd.read_pickle('refs/refs_for_216.pckl')\n",
    "print(refs.head())"
   ]
  },
  {
   "cell_type": "code",
   "execution_count": 5,
   "metadata": {},
   "outputs": [],
   "source": [
    "#Get play by play data\n",
    "play = pd.read_pickle('play_by_play/play_by_play_for_216.pckl')\n",
    "#Get all fouls\n",
    "play = play.loc[play['EVENTMSGTYPE'] == 6]"
   ]
  },
  {
   "cell_type": "code",
   "execution_count": 6,
   "metadata": {},
   "outputs": [
    {
     "name": "stdout",
     "output_type": "stream",
     "text": [
      "     index     GAME_ID  EVENTNUM  EVENTMSGTYPE  EVENTMSGACTIONTYPE  PERIOD  \\\n16      16  0021600001        16             6                   4       1   \n21      21  0021600001        21             6                   2       1   \n50      50  0021600001        57             6                   1       1   \n54      54  0021600001        61             6                   2       1   \n75      75  0021600001        85             6                   1       1   \n76      76  0021600001        87             6                  17       1   \n100    100  0021600001       119             6                   4       1   \n107    107  0021600001       126             6                   2       1   \n114    114  0021600001       135             6                   4       1   \n116    116  0021600001       138             6                   2       1   \n119    119  0021600001       144             6                   1       1   \n156    156  0021600001       189             6                   2       2   \n160    160  0021600001       195             6                   1       2   \n176    176  0021600001       213             6                   1       2   \n184    184  0021600001       222             6                   1       2   \n\n    WCTIMESTRING PCTIMESTRING                      HOMEDESCRIPTION  \\\n16       7:39 PM        10:11                                 None   \n21       7:40 PM         9:44        James S.FOUL (P1.T1) (K.Lane)   \n50       7:46 PM         7:03                                 None   \n54       7:47 PM         6:48                                 None   \n75       7:50 PM         4:34                                 None   \n76       7:51 PM         4:25                                 None   \n100      7:57 PM         2:37                                 None   \n107      7:58 PM         1:28                                 None   \n114      8:00 PM         1:06     Shumpert OFF.Foul (P1) (B.Adams)   \n116      8:00 PM         0:50  Thompson S.FOUL (P1.T2) (B.Kennedy)   \n119      8:01 PM         0:40                                 None   \n156      8:10 PM         9:36        Frye S.FOUL (P1.T1) (B.Adams)   \n160      8:11 PM         9:27                                 None   \n176      8:16 PM         7:45    Irving P.FOUL (P1.T2) (B.Kennedy)   \n184      8:17 PM         7:18     James P.FOUL (P2.T3) (B.Kennedy)   \n\n    NEUTRALDESCRIPTION                               VISITORDESCRIPTION SCORE  \\\n16                None                   Noah OFF.Foul (P1) (B.Kennedy)  None   \n21                None                                             None  None   \n50                None               Anthony P.FOUL (P1.T1) (B.Kennedy)  None   \n54                None               Porzingis S.FOUL (P1.T2) (B.Adams)  None   \n75                None                 O'Quinn P.FOUL (P1.T3) (B.Adams)  None   \n76                None  Knicks T.Foul (Def. 3 Sec O'Quinn ) (B.Kennedy)  None   \n100               None                   O'Quinn OFF.Foul (P2) (K.Lane)  None   \n107               None                Thomas S.FOUL (P1.T4) (B.Kennedy)  None   \n114               None                                             None  None   \n116               None                                             None  None   \n119               None                  Thomas P.FOUL (P2.PN) (B.Adams)  None   \n156               None                                             None  None   \n160               None               Porzingis P.FOUL (P2.T1) (B.Adams)  None   \n176               None                                             None  None   \n184               None                                             None  None   \n\n    SCOREMARGIN  \n16         None  \n21         None  \n50         None  \n54         None  \n75         None  \n76         None  \n100        None  \n107        None  \n114        None  \n116        None  \n119        None  \n156        None  \n160        None  \n176        None  \n184        None  \n"
     ]
    }
   ],
   "source": [
    "print(play.head(15))"
   ]
  },
  {
   "cell_type": "code",
   "execution_count": 7,
   "metadata": {},
   "outputs": [
    {
     "name": "stderr",
     "output_type": "stream",
     "text": [
      "/Library/Frameworks/Python.framework/Versions/3.5/lib/python3.5/site-packages/ipykernel_launcher.py:12: FutureWarning: set_value is deprecated and will be removed in a future release. Please use .at[] or .iat[] accessors instead\n  if sys.path[0] == '':\n"
     ]
    }
   ],
   "source": [
    "import datetime\n",
    "for index, row in play.iterrows():\n",
    "    time_of_event = datetime.datetime.strptime(row['PCTIMESTRING'], '%M:%S')\n",
    "    elapsed_min = 12 - time_of_event.minute\n",
    "    # print(elapsed_min)\n",
    "    elapsed_sec = 59 - time_of_event.second\n",
    "    # print(elapsed_sec)\n",
    "    time_of_event = datetime.datetime.strptime(str(elapsed_min) + ':' \n",
    "                                               + str(elapsed_sec), '%M:%S')\n",
    "    minutes = (row['PERIOD']-1) * 12\n",
    "    time_of_event = time_of_event + datetime.timedelta(minutes=minutes)\n",
    "    play.set_value(index, 'PCTIMESTRING', time_of_event.strftime('%M:%S'))\n",
    "    "
   ]
  },
  {
   "cell_type": "code",
   "execution_count": 8,
   "metadata": {},
   "outputs": [],
   "source": [
    "foul_occurences = play['PCTIMESTRING'].value_counts()\n",
    "\n"
   ]
  },
  {
   "cell_type": "code",
   "execution_count": 9,
   "metadata": {
    "collapsed": false
   },
   "outputs": [
    {
     "data": {
      "text/plain": [
       "<matplotlib.axes._subplots.AxesSubplot at 0x11a8fe048>"
      ]
     },
     "execution_count": 9,
     "metadata": {},
     "output_type": "execute_result"
    },
    {
     "data": {
      "image/png": "[encoded data removed]",
      "text/plain": [
       "<matplotlib.figure.Figure at 0x11964bf98>"
      ]
     },
     "metadata": {},
     "output_type": "display_data"
    }
   ],
   "source": [
    "foul_occurences.plot()"
   ]
  },
  {
   "cell_type": "code",
   "execution_count": 10,
   "metadata": {},
   "outputs": [],
   "source": [
    "unique_refs = refs['OFFICIAL_ID'].unique()"
   ]
  },
  {
   "cell_type": "code",
   "execution_count": 11,
   "metadata": {},
   "outputs": [],
   "source": [
    "lebron_games = pd.read_pickle('player_tracking_by_year/player_tracking_for_216.pckl')"
   ]
  },
  {
   "cell_type": "code",
   "execution_count": 12,
   "metadata": {},
   "outputs": [],
   "source": [
    "lebron_games = lebron_games.loc[lebron_games['PLAYER_ID'] == 2544]"
   ]
  },
  {
   "cell_type": "code",
   "execution_count": 13,
   "metadata": {},
   "outputs": [
    {
     "name": "stdout",
     "output_type": "stream",
     "text": [
      "       GAME_ID     TEAM_ID TEAM_ABBREVIATION  TEAM_CITY  PLAYER_ID  \\\n13  0021600001  1610612739               CLE  Cleveland       2544   \n0   0021600018  1610612739               CLE  Cleveland       2544   \n13  0021600029  1610612739               CLE  Cleveland       2544   \n13  0021600047  1610612739               CLE  Cleveland       2544   \n12  0021600068  1610612739               CLE  Cleveland       2544   \n\n     PLAYER_NAME START_POSITION COMMENT    MIN   SPD   ...     CFGM  CFGA  \\\n13  LeBron James              F          32:23  4.02   ...        7    10   \n0   LeBron James              F          38:40  3.77   ...        4    10   \n13  LeBron James              F          39:00  3.75   ...        4     7   \n13  LeBron James              F          35:51  3.60   ...        3     7   \n12  LeBron James              F          36:22  3.79   ...        6    13   \n\n    CFG_PCT  UFGM  UFGA  UFG_PCT  FG_PCT  DFGM  DFGA  DFG_PCT  \n13    0.700     2     4    0.500   0.643     2     4      0.5  \n0     0.400     3     6    0.500   0.438     2    10      0.2  \n13    0.571     3     9    0.333   0.438     3     3      1.0  \n13    0.429     3     5    0.600   0.500     3     6      0.5  \n12    0.462     6     9    0.667   0.545     7    10      0.7  \n\n[5 rows x 29 columns]\n"
     ]
    }
   ],
   "source": [
    "print(lebron_games.head())\n"
   ]
  },
  {
   "cell_type": "code",
   "execution_count": 14,
   "metadata": {},
   "outputs": [],
   "source": [
    "refs_in_bron = refs[refs['GAME_ID'].isin(lebron_games['GAME_ID'])]"
   ]
  },
  {
   "cell_type": "code",
   "execution_count": 15,
   "metadata": {},
   "outputs": [],
   "source": [
    "def game_id_reducer(gameid):\n",
    "    return int(gameid[-4:])"
   ]
  },
  {
   "cell_type": "code",
   "execution_count": 16,
   "metadata": {},
   "outputs": [],
   "source": [
    "games = pd.read_pickle('team_log_216')"
   ]
  },
  {
   "cell_type": "code",
   "execution_count": 17,
   "metadata": {},
   "outputs": [
    {
     "name": "stdout",
     "output_type": "stream",
     "text": [
      "   index     Team_ID     Game_ID     GAME_DATE      MATCHUP WL   W   L  W_PCT  \\\n0      0  1610612737  0021601226  APR 12, 2017    ATL @ IND  L  43  39  0.524   \n1      1  1610612737  0021601212  APR 11, 2017  ATL vs. CHA  W  43  38  0.531   \n2      2  1610612737  0021601197  APR 09, 2017  ATL vs. CLE  W  42  38  0.525   \n3      3  1610612737  0021601179  APR 07, 2017    ATL @ CLE  W  41  38  0.519   \n4      4  1610612737  0021601177  APR 06, 2017  ATL vs. BOS  W  40  38  0.513   \n\n   MIN ...   FT_PCT  OREB  DREB  REB  AST  STL  BLK  TOV  PF  PTS  \n0  240 ...    0.789     8    29   37   19    5    4   18  15   86  \n1  240 ...    0.778    11    39   50   30    6    4   16  17  103  \n2  265 ...    0.784    10    35   45   31    8    4   12  22  126  \n3  240 ...    1.000     6    36   42   39    7    3   11  17  114  \n4  240 ...    0.706    13    39   52   26    7    4   17  30  123  \n\n[5 rows x 28 columns]\n"
     ]
    }
   ],
   "source": [
    "print(games.head())"
   ]
  },
  {
   "cell_type": "code",
   "execution_count": 18,
   "metadata": {},
   "outputs": [],
   "source": [
    "games = games[['Team_ID', 'Game_ID', 'WL']]"
   ]
  },
  {
   "cell_type": "code",
   "execution_count": 19,
   "metadata": {},
   "outputs": [
    {
     "name": "stdout",
     "output_type": "stream",
     "text": [
      "      Team_ID     Game_ID WL\n0  1610612737  0021601226  L\n1  1610612737  0021601212  W\n2  1610612737  0021601197  W\n3  1610612737  0021601179  W\n4  1610612737  0021601177  W\n"
     ]
    }
   ],
   "source": [
    "print(games.head())"
   ]
  },
  {
   "cell_type": "code",
   "execution_count": 20,
   "metadata": {},
   "outputs": [],
   "source": [
    "games['Game_ID'] = games['Game_ID'].map(game_id_reducer)"
   ]
  },
  {
   "cell_type": "code",
   "execution_count": 21,
   "metadata": {},
   "outputs": [
    {
     "name": "stdout",
     "output_type": "stream",
     "text": [
      "      Team_ID  Game_ID WL\n0  1610612737     1226  L\n1  1610612737     1212  W\n2  1610612737     1197  W\n3  1610612737     1179  W\n4  1610612737     1177  W\n"
     ]
    }
   ],
   "source": [
    "print(games.head())"
   ]
  },
  {
   "cell_type": "code",
   "execution_count": 22,
   "metadata": {},
   "outputs": [
    {
     "name": "stdout",
     "output_type": "stream",
     "text": [
      "   Date  Rot VH        Team  1st  2nd  3rd  4th  Final   Open Close    ML  \\\n0  1025  501  V     NewYork   18   27   19   24     88  205.5   206   355   \n1  1025  502  H   Cleveland   28   20   34   35    117    9.5     9  -450   \n2  1025  503  V        Utah   26   20   37   21    104    194   192   195   \n3  1025  504  H    Portland   26   28   23   36    113      6   5.5  -235   \n4  1025  505  V  SanAntonio   31   33   33   32    129  210.5   212   325   \n\n      2H  GAME_ID  \n0  103.5        1  \n1      5        1  \n2   99.5        2  \n3     pk        2  \n4    110        3  \n"
     ]
    }
   ],
   "source": [
    "print(odds.head())"
   ]
  },
  {
   "cell_type": "code",
   "execution_count": null,
   "metadata": {},
   "outputs": [],
   "source": []
  }
 ],
 "metadata": {
  "kernelspec": {
   "display_name": "Python 2",
   "language": "python",
   "name": "python2"
  },
  "language_info": {
   "codemirror_mode": {
    "name": "ipython",
    "version": 2
   },
   "file_extension": ".py",
   "mimetype": "text/x-python",
   "name": "python",
   "nbconvert_exporter": "python",
   "pygments_lexer": "ipython2",
   "version": "2.7.6"
  }
 },
 "nbformat": 4,
 "nbformat_minor": 0
}
